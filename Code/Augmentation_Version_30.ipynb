{
  "nbformat": 4,
  "nbformat_minor": 0,
  "metadata": {
    "colab": {
      "provenance": [],
      "gpuType": "T4"
    },
    "kernelspec": {
      "name": "python3",
      "display_name": "Python 3"
    },
    "language_info": {
      "name": "python"
    },
    "accelerator": "GPU"
  },
  "cells": [
    {
      "cell_type": "markdown",
      "source": [
        "#Data Augmentation and Splitting for Training, Validation and Testing"
      ],
      "metadata": {
        "id": "NV6hsZ-Ql4l2"
      }
    },
    {
      "cell_type": "markdown",
      "source": [
        "##Import Libraries and Packages"
      ],
      "metadata": {
        "id": "CgOwz2vhlt3R"
      }
    },
    {
      "cell_type": "code",
      "execution_count": null,
      "metadata": {
        "id": "2zV4xURwgB_I"
      },
      "outputs": [],
      "source": [
        "import tensorflow as tf\n",
        "import requests\n",
        "import zipfile\n",
        "import shutil\n",
        "import os\n",
        "\n",
        "from tensorflow.keras.preprocessing.image import ImageDataGenerator\n",
        "from sklearn.model_selection import train_test_split\n",
        "from PIL import UnidentifiedImageError\n",
        "from google.colab import files"
      ]
    },
    {
      "cell_type": "markdown",
      "source": [
        "##Downloading and Extracting ZIP Files from GitHub"
      ],
      "metadata": {
        "id": "uQk53-ucmVTX"
      }
    },
    {
      "cell_type": "code",
      "source": [
        "# Retrieve data from GitHub and ccreate a temporary path\n",
        "zip_url = \"https://github.com/snapmoo/SnapMoo-ML/raw/main/FMD_Cattle.zip\"\n",
        "zip_path = \"/content/FMD_Cattle.zip\"\n",
        "\n",
        "# Download the zip file\n",
        "response = requests.get(zip_url, stream=True)\n",
        "with open(zip_path, 'wb') as f:\n",
        "    for chunk in response.iter_content(chunk_size=8192):\n",
        "        if chunk:\n",
        "            f.write(chunk)\n",
        "\n",
        "# Extract the downloaded Zip file\n",
        "extract_dir = \"/content/FMD_Cattle\"\n",
        "with zipfile.ZipFile(zip_path, 'r') as zip_ref:\n",
        "    zip_ref.extractall(extract_dir)\n",
        "\n",
        "print(\"Extraction complete.\")\n",
        "\n",
        "# List the files in the extracted directory to verify\n",
        "extracted_files = os.listdir(extract_dir)\n",
        "print(\"Extracted files:\", extracted_files)"
      ],
      "metadata": {
        "colab": {
          "base_uri": "https://localhost:8080/"
        },
        "id": "ygMTzx2lksv_",
        "outputId": "baaab8cb-237d-46ce-bf51-dcd096ebee8e"
      },
      "execution_count": null,
      "outputs": [
        {
          "output_type": "stream",
          "name": "stdout",
          "text": [
            "Extraction complete.\n",
            "Extracted files: ['FMD_Cattle']\n"
          ]
        }
      ]
    },
    {
      "cell_type": "markdown",
      "source": [
        "##Augmentation and Splitting Process"
      ],
      "metadata": {
        "id": "KLrMvQLSmYZe"
      }
    },
    {
      "cell_type": "code",
      "source": [
        "original_dir = \"/content/FMD_Cattle/FMD_Cattle/FMD_Cattle\"\n",
        "base_dir = \"/content/augmented_Dataset\"\n",
        "\n",
        "# Create directories for augmented dataset\n",
        "train_dir = os.path.join(base_dir, 'train')\n",
        "validation_dir = os.path.join(base_dir, 'validation')\n",
        "test_dir = os.path.join(base_dir, 'test')\n",
        "\n",
        "os.makedirs(train_dir, exist_ok=True)\n",
        "os.makedirs(validation_dir, exist_ok=True)\n",
        "os.makedirs(test_dir, exist_ok=True)\n",
        "\n",
        "def create_category_directories(base_path):\n",
        "    for category in ['0', '1']:\n",
        "        os.makedirs(os.path.join(base_path, category), exist_ok=True)\n",
        "\n",
        "create_category_directories(train_dir)\n",
        "create_category_directories(validation_dir)\n",
        "create_category_directories(test_dir)\n",
        "\n",
        "# Augmentation settings\n",
        "datagen = ImageDataGenerator(\n",
        "    rescale=1./255,\n",
        "    rotation_range=40,\n",
        "    width_shift_range=0.2,\n",
        "    height_shift_range=0.2,\n",
        "    shear_range=0.2,\n",
        "    zoom_range=0.2,\n",
        "    horizontal_flip=True,\n",
        "    fill_mode='reflect'\n",
        ")\n",
        "\n",
        "# Split the data and augment\n",
        "for category in ['0', '1']:\n",
        "    category_dir = os.path.join(original_dir, category)\n",
        "\n",
        "    for subfolder in os.listdir(category_dir):\n",
        "        images = os.listdir(category_dir)\n",
        "\n",
        "        train_images, temp_images = train_test_split(images, test_size=0.4, random_state=42)\n",
        "        validation_images, test_images = train_test_split(temp_images, test_size=0.5, random_state=42)\n",
        "\n",
        "        for image_set, dest_dir in zip([train_images, validation_images, test_images],\n",
        "                                       [train_dir, validation_dir, test_dir]):\n",
        "            for image_name in image_set:\n",
        "                src = os.path.join(category_dir, image_name)\n",
        "                dst = os.path.join(dest_dir, category, image_name)\n",
        "                try:\n",
        "                    shutil.copyfile(src, dst)\n",
        "                except Exception as e:\n",
        "                    print(f\"Error copying {src} to {dst}: {e}\")\n",
        "\n",
        "# Apply augmentation to training and validation\n",
        "for category in ['0', '1']:\n",
        "    for dest_dir in [train_dir, validation_dir]:\n",
        "        aug_dir = os.path.join(dest_dir, category)\n",
        "        images = os.listdir(aug_dir)\n",
        "        for image_name in images:\n",
        "            src = os.path.join(aug_dir, image_name)\n",
        "            try:\n",
        "                img = tf.keras.preprocessing.image.load_img(src)\n",
        "                x = tf.keras.preprocessing.image.img_to_array(img)\n",
        "                x = x.reshape((1,) + x.shape)\n",
        "\n",
        "                i = 0\n",
        "                for batch in datagen.flow(x, batch_size=1, save_to_dir=aug_dir,\n",
        "                                          save_prefix=f'{image_name.split(\".\")[0]}_aug', save_format='jpeg'):\n",
        "                    i += 1\n",
        "                    if i >= 30:\n",
        "                        break\n",
        "            except Exception as e:\n",
        "                print(f\"Error augmenting {src}: {e}\")\n",
        "\n",
        "print(\"Data augmentation and splitting complete.\")\n"
      ],
      "metadata": {
        "colab": {
          "base_uri": "https://localhost:8080/"
        },
        "id": "N5Hm5BZykx1v",
        "outputId": "02b86340-43f0-4804-a559-514f9ddb72d9"
      },
      "execution_count": null,
      "outputs": [
        {
          "output_type": "stream",
          "name": "stdout",
          "text": [
            "Data augmentation and splitting complete.\n"
          ]
        }
      ]
    },
    {
      "cell_type": "markdown",
      "source": [
        "##Compress Augmentation Results into ZIP File"
      ],
      "metadata": {
        "id": "ewWVzic-mfLA"
      }
    },
    {
      "cell_type": "code",
      "source": [
        "final_zip_path = \"/content/augmented_FMD_Cattle.zip\"\n",
        "shutil.make_archive('/content/augmented_FMD_Cattle', 'zip', base_dir)\n",
        "\n",
        "print(\"Compression complete.\")"
      ],
      "metadata": {
        "colab": {
          "base_uri": "https://localhost:8080/"
        },
        "id": "q55h_d6ykzbi",
        "outputId": "e6c069f1-2f4f-4e06-9521-2400377051d8"
      },
      "execution_count": null,
      "outputs": [
        {
          "output_type": "stream",
          "name": "stdout",
          "text": [
            "Compression complete.\n"
          ]
        }
      ]
    },
    {
      "cell_type": "markdown",
      "source": [
        "##Download the Augmented ZIP File"
      ],
      "metadata": {
        "id": "vG3ezhUtmpsT"
      }
    },
    {
      "cell_type": "code",
      "source": [
        "files.download(final_zip_path)"
      ],
      "metadata": {
        "colab": {
          "base_uri": "https://localhost:8080/",
          "height": 34
        },
        "id": "3ZvspZAEk0m4",
        "outputId": "2d2fdc5a-451a-47fd-ce3e-d392ab3fc83f"
      },
      "execution_count": null,
      "outputs": [
        {
          "output_type": "display_data",
          "data": {
            "text/plain": [
              "<IPython.core.display.Javascript object>"
            ],
            "application/javascript": [
              "\n",
              "    async function download(id, filename, size) {\n",
              "      if (!google.colab.kernel.accessAllowed) {\n",
              "        return;\n",
              "      }\n",
              "      const div = document.createElement('div');\n",
              "      const label = document.createElement('label');\n",
              "      label.textContent = `Downloading \"${filename}\": `;\n",
              "      div.appendChild(label);\n",
              "      const progress = document.createElement('progress');\n",
              "      progress.max = size;\n",
              "      div.appendChild(progress);\n",
              "      document.body.appendChild(div);\n",
              "\n",
              "      const buffers = [];\n",
              "      let downloaded = 0;\n",
              "\n",
              "      const channel = await google.colab.kernel.comms.open(id);\n",
              "      // Send a message to notify the kernel that we're ready.\n",
              "      channel.send({})\n",
              "\n",
              "      for await (const message of channel.messages) {\n",
              "        // Send a message to notify the kernel that we're ready.\n",
              "        channel.send({})\n",
              "        if (message.buffers) {\n",
              "          for (const buffer of message.buffers) {\n",
              "            buffers.push(buffer);\n",
              "            downloaded += buffer.byteLength;\n",
              "            progress.value = downloaded;\n",
              "          }\n",
              "        }\n",
              "      }\n",
              "      const blob = new Blob(buffers, {type: 'application/binary'});\n",
              "      const a = document.createElement('a');\n",
              "      a.href = window.URL.createObjectURL(blob);\n",
              "      a.download = filename;\n",
              "      div.appendChild(a);\n",
              "      a.click();\n",
              "      div.remove();\n",
              "    }\n",
              "  "
            ]
          },
          "metadata": {}
        },
        {
          "output_type": "display_data",
          "data": {
            "text/plain": [
              "<IPython.core.display.Javascript object>"
            ],
            "application/javascript": [
              "download(\"download_1aa7c648-0771-4bf4-ba0d-8dfa8371b643\", \"augmented_FMD_Cattle.zip\", 738346189)"
            ]
          },
          "metadata": {}
        }
      ]
    }
  ]
}